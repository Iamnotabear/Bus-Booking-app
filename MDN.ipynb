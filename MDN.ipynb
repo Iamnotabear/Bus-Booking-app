{
  "nbformat": 4,
  "nbformat_minor": 0,
  "metadata": {
    "colab": {
      "name": "MDN.ipynb",
      "version": "0.3.2",
      "provenance": [],
      "collapsed_sections": [],
      "include_colab_link": true
    },
    "kernelspec": {
      "name": "python3",
      "display_name": "Python 3"
    },
    "accelerator": "GPU"
  },
  "cells": [
    {
      "cell_type": "markdown",
      "metadata": {
        "id": "view-in-github",
        "colab_type": "text"
      },
      "source": [
        "<a href=\"https://colab.research.google.com/github/notabee/Bus-Booking-app/blob/master/MDN.ipynb\" target=\"_parent\"><img src=\"https://colab.research.google.com/assets/colab-badge.svg\" alt=\"Open In Colab\"/></a>"
      ]
    },
    {
      "cell_type": "code",
      "metadata": {
        "id": "rQOMAGW0TYNT",
        "colab_type": "code",
        "colab": {}
      },
      "source": [
        "from keras.layers import Input, Dense, Concatenate, Activation,concatenate\n",
        "from keras.models import Model\n",
        "import pickle\n",
        "from keras import backend as K\n",
        "import matplotlib.pyplot as plt\n",
        "import numpy as np\n",
        "import cv2\n",
        "import tensorflow as tf\n",
        "from tensorflow_probability import distributions as tfd\n",
        "from matplotlib.pyplot import figure\n",
        "from keras.optimizers import Adam\n",
        "from keras import backend as K\n",
        "from keras.engine.topology import Layer\n",
        "import numpy as np\n",
        "import math"
      ],
      "execution_count": 0,
      "outputs": []
    },
    {
      "cell_type": "code",
      "metadata": {
        "id": "U0cwiPDW-339",
        "colab_type": "code",
        "colab": {}
      },
      "source": [
        "with open('input_list', 'rb') as f:\n",
        "    input_list = pickle.load(f)\n",
        "with open('output_list', 'rb') as f:\n",
        "    output_list = pickle.load(f)"
      ],
      "execution_count": 0,
      "outputs": []
    },
    {
      "cell_type": "code",
      "metadata": {
        "id": "CmzYDE2n_JrC",
        "colab_type": "code",
        "outputId": "ad9f384f-12f1-4542-e3c2-2071c34229a4",
        "colab": {
          "base_uri": "https://localhost:8080/",
          "height": 34
        }
      },
      "source": [
        "bbx =[]\n",
        "label = []\n",
        "p_bbx = []\n",
        "p_label = []\n",
        "for input1, output in zip(input_list, output_list):\n",
        "  for i, j in zip(input1, output):\n",
        "    if np.array_equal([1., 0., 0., 0., 0., 0., 0., 0., 0., 0., 0., 0., 0., 0., 0., 0., 0., 0., 0.], i):\n",
        "      label.append(i)\n",
        "      p_bbx.append(np.array([-1,-1,1,1]))\n",
        "      p_label.append(np.array([1., 1., 1., 1., 1., 1., 1., 1., 1., 1., 1., 1., 1., 1., 1., 1., 1., 1., 1.]))\n",
        "      bbx.append(j)\n",
        "len(bbx)"
      ],
      "execution_count": 23,
      "outputs": [
        {
          "output_type": "execute_result",
          "data": {
            "text/plain": [
              "1356"
            ]
          },
          "metadata": {
            "tags": []
          },
          "execution_count": 23
        }
      ]
    },
    {
      "cell_type": "code",
      "metadata": {
        "id": "VaABVXWd22UR",
        "colab_type": "code",
        "colab": {}
      },
      "source": [
        "bbx = np.asarray(bbx, dtype = 'float32')\n",
        "p_bbx = np.asarray(p_bbx, dtype = 'float32')\n",
        "p_label = np.asarray(p_label )\n",
        "label = np.asarray(label)"
      ],
      "execution_count": 0,
      "outputs": []
    },
    {
      "cell_type": "code",
      "metadata": {
        "id": "YH-e-qDrdrgz",
        "colab_type": "code",
        "colab": {}
      },
      "source": [
        "x = []\n",
        "y = []\n",
        "h = []\n",
        "w = []\n",
        "bbx1=[]\n",
        "for i in range(0, bbx.shape[0]):\n",
        "  xmin, ymin, xmax, ymax = bbx[i]\n",
        "  x.append(xmin)\n",
        "  y.append(ymin)\n",
        "  h.append(ymax-ymin)\n",
        "  w.append(xmax-xmin)\n",
        "  bbx1.append([xmin, ymin, ymax-ymin, xmax-xmin])\n",
        "\n",
        "x = np.asarray(x, dtype ='float32')\n",
        "y = np.asarray(y, dtype ='float32')\n",
        "h = np.asarray(h, dtype ='float32')\n",
        "w = np.asarray(w, dtype ='float32')\n",
        "bbx1 = np.asarray(bbx1, dtype='float32')"
      ],
      "execution_count": 0,
      "outputs": []
    },
    {
      "cell_type": "code",
      "metadata": {
        "id": "cBx2FYcZTV9Q",
        "colab_type": "code",
        "colab": {}
      },
      "source": [
        "def sigma_act(x):\n",
        "  \n",
        "    \"\"\"ELU activation with a very small addition to help prevent NaN in loss.\"\"\"\n",
        "    return (K.tanh(x) + 1)/2"
      ],
      "execution_count": 0,
      "outputs": []
    },
    {
      "cell_type": "code",
      "metadata": {
        "id": "mjDgt2BgKcQ1",
        "colab_type": "code",
        "outputId": "928c6f19-276a-496e-f34c-6310e604c787",
        "colab": {
          "base_uri": "https://localhost:8080/",
          "height": 1258
        }
      },
      "source": [
        "components = 7\n",
        "no_parameters = 3\n",
        "\n",
        "inputA = Input(shape=(4,))\n",
        "inputB = Input(shape=(19,))\n",
        "inputC = Input(shape=(19,))\n",
        "\n",
        "x = Dense(4, activation=\"relu\")(inputA)\n",
        "x = Model(inputs=inputA, outputs=x)\n",
        "\n",
        "y = Dense(4, activation=\"relu\")(inputB)\n",
        "y = Model(inputs=inputB, outputs=y)\n",
        "\n",
        "z = Dense(4, activation=\"relu\")(inputC)\n",
        "z = Model(inputs=inputC, outputs=z)\n",
        "\n",
        "combined = concatenate([x.output, y.output, z.output])\n",
        "\n",
        "h2 = Dense(12, activation=\"relu\")(combined)\n",
        "\n",
        "alphasx = Dense(components, activation=\"softmax\", name=\"alphasx\")(h2)\n",
        "musx = Dense(components, activation='tanh',name=\"musx\")(h2)\n",
        "sigmasx = Dense(components, activation=sigma_act, name=\"sigmasx\")(h2)\n",
        "\n",
        "x_param = Concatenate(name=\"x_param\")([alphasx, musx, sigmasx])\n",
        "\n",
        "alphasy = Dense(components, activation=\"softmax\", name=\"alphasy\")(x_param)\n",
        "musy = Dense(components, activation='tanh',name=\"musy\")(x_param)\n",
        "sigmasy = Dense(components, activation=sigma_act, name=\"sigmasy\")(x_param)\n",
        "\n",
        "xy_param = Concatenate(name=\"xy_param\")([alphasx, alphasy, musx, musy, sigmasx, sigmasy])\n",
        "\n",
        "alphash = Dense(components, activation=\"softmax\", name=\"alphash\")(xy_param)\n",
        "mush = Dense(components,activation='sigmoid', name=\"mush\")(xy_param)\n",
        "sigmash = Dense(components, activation='sigmoid', name=\"sigmash\")(xy_param)\n",
        "\n",
        "alphasw = Dense(components, activation=\"softmax\", name=\"alphasw\")(alphash)\n",
        "musw = Dense(components,activation='sigmoid', name=\"musw\")(mush)\n",
        "sigmasw = Dense(components, activation='sigmoid', name=\"sigmasw\")(sigmash)\n",
        "\n",
        "\n",
        "pvector = Concatenate(name=\"output\")([alphasx, musx, sigmasx,\n",
        "                                      alphasy, musy, sigmasy,\n",
        "                                      alphash, mush, sigmash,\n",
        "                                      alphasw, musw, sigmasw])\n",
        "\n",
        "\n",
        "\n",
        "model = Model(inputs=[x.input, y.input, z.input], outputs=pvector)\n",
        "model.summary()"
      ],
      "execution_count": 80,
      "outputs": [
        {
          "output_type": "stream",
          "text": [
            "__________________________________________________________________________________________________\n",
            "Layer (type)                    Output Shape         Param #     Connected to                     \n",
            "==================================================================================================\n",
            "input_10 (InputLayer)           (None, 4)            0                                            \n",
            "__________________________________________________________________________________________________\n",
            "input_11 (InputLayer)           (None, 19)           0                                            \n",
            "__________________________________________________________________________________________________\n",
            "input_12 (InputLayer)           (None, 19)           0                                            \n",
            "__________________________________________________________________________________________________\n",
            "dense_13 (Dense)                (None, 4)            20          input_10[0][0]                   \n",
            "__________________________________________________________________________________________________\n",
            "dense_14 (Dense)                (None, 4)            80          input_11[0][0]                   \n",
            "__________________________________________________________________________________________________\n",
            "dense_15 (Dense)                (None, 4)            80          input_12[0][0]                   \n",
            "__________________________________________________________________________________________________\n",
            "concatenate_4 (Concatenate)     (None, 12)           0           dense_13[0][0]                   \n",
            "                                                                 dense_14[0][0]                   \n",
            "                                                                 dense_15[0][0]                   \n",
            "__________________________________________________________________________________________________\n",
            "dense_16 (Dense)                (None, 12)           156         concatenate_4[0][0]              \n",
            "__________________________________________________________________________________________________\n",
            "alphasx (Dense)                 (None, 7)            91          dense_16[0][0]                   \n",
            "__________________________________________________________________________________________________\n",
            "musx (Dense)                    (None, 7)            91          dense_16[0][0]                   \n",
            "__________________________________________________________________________________________________\n",
            "sigmasx (Dense)                 (None, 7)            91          dense_16[0][0]                   \n",
            "__________________________________________________________________________________________________\n",
            "x_param (Concatenate)           (None, 21)           0           alphasx[0][0]                    \n",
            "                                                                 musx[0][0]                       \n",
            "                                                                 sigmasx[0][0]                    \n",
            "__________________________________________________________________________________________________\n",
            "alphasy (Dense)                 (None, 7)            154         x_param[0][0]                    \n",
            "__________________________________________________________________________________________________\n",
            "musy (Dense)                    (None, 7)            154         x_param[0][0]                    \n",
            "__________________________________________________________________________________________________\n",
            "sigmasy (Dense)                 (None, 7)            154         x_param[0][0]                    \n",
            "__________________________________________________________________________________________________\n",
            "xy_param (Concatenate)          (None, 42)           0           alphasx[0][0]                    \n",
            "                                                                 alphasy[0][0]                    \n",
            "                                                                 musx[0][0]                       \n",
            "                                                                 musy[0][0]                       \n",
            "                                                                 sigmasx[0][0]                    \n",
            "                                                                 sigmasy[0][0]                    \n",
            "__________________________________________________________________________________________________\n",
            "alphash (Dense)                 (None, 7)            301         xy_param[0][0]                   \n",
            "__________________________________________________________________________________________________\n",
            "mush (Dense)                    (None, 7)            301         xy_param[0][0]                   \n",
            "__________________________________________________________________________________________________\n",
            "sigmash (Dense)                 (None, 7)            301         xy_param[0][0]                   \n",
            "__________________________________________________________________________________________________\n",
            "alphasw (Dense)                 (None, 7)            56          alphash[0][0]                    \n",
            "__________________________________________________________________________________________________\n",
            "musw (Dense)                    (None, 7)            56          mush[0][0]                       \n",
            "__________________________________________________________________________________________________\n",
            "sigmasw (Dense)                 (None, 7)            56          sigmash[0][0]                    \n",
            "__________________________________________________________________________________________________\n",
            "output (Concatenate)            (None, 84)           0           alphasx[0][0]                    \n",
            "                                                                 musx[0][0]                       \n",
            "                                                                 sigmasx[0][0]                    \n",
            "                                                                 alphasy[0][0]                    \n",
            "                                                                 musy[0][0]                       \n",
            "                                                                 sigmasy[0][0]                    \n",
            "                                                                 alphash[0][0]                    \n",
            "                                                                 mush[0][0]                       \n",
            "                                                                 sigmash[0][0]                    \n",
            "                                                                 alphasw[0][0]                    \n",
            "                                                                 musw[0][0]                       \n",
            "                                                                 sigmasw[0][0]                    \n",
            "==================================================================================================\n",
            "Total params: 2,142\n",
            "Trainable params: 2,142\n",
            "Non-trainable params: 0\n",
            "__________________________________________________________________________________________________\n"
          ],
          "name": "stdout"
        }
      ]
    },
    {
      "cell_type": "code",
      "metadata": {
        "colab_type": "code",
        "id": "8uz337Oqbl2n",
        "colab": {}
      },
      "source": [
        "def slice_parameter_vectors(parameter_vector):\n",
        "    \"\"\" Returns an unpacked list of paramter vectors.\n",
        "    \"\"\"\n",
        "    return [parameter_vector[:,i*components:(i+1)*components] for i in range(no_parameters)]\n",
        "\n",
        "def gnll_loss(yt, parameter_vector):\n",
        "    \"\"\" Computes the mean negative log-likelihood loss of y given the mixture parameters.\n",
        "    \"\"\"\n",
        "    x,y,h,w = [yt[:,i*1:(i+1)*1] for i in range(4)]\n",
        "    x_vector, y_vector, h_vector, w_vector = [parameter_vector[:,i*21:(i+1)*21] for i in range(4)]\n",
        "    \n",
        "    alphasx, musx, sigmasx = slice_parameter_vectors(x_vector)    \n",
        "    alphasy, musy, sigmasy = slice_parameter_vectors(y_vector)\n",
        "    alphash, mush, sigmash = slice_parameter_vectors(h_vector)\n",
        "    alphasw, musw, sigmasw = slice_parameter_vectors(w_vector)\n",
        "    \n",
        "    gmx = tfd.MixtureSameFamily(\n",
        "        mixture_distribution=tfd.Categorical(probs=alphasx),\n",
        "        components_distribution=tfd.Normal(\n",
        "            loc=musx,       \n",
        "            scale=sigmasx))\n",
        "    \n",
        "    gmy = tfd.MixtureSameFamily(\n",
        "        mixture_distribution=tfd.Categorical(probs=alphasy),\n",
        "        components_distribution=tfd.Normal(\n",
        "            loc=musy,       \n",
        "            scale=sigmasy))\n",
        "    \n",
        "    gmh = tfd.MixtureSameFamily(\n",
        "        mixture_distribution=tfd.Categorical(probs=alphash),\n",
        "        components_distribution=tfd.Normal(\n",
        "            loc=mush,       \n",
        "            scale=sigmash))\n",
        "    \n",
        "    gmw = tfd.MixtureSameFamily(\n",
        "        mixture_distribution=tfd.Categorical(probs=alphasw),\n",
        "        components_distribution=tfd.Normal(\n",
        "            loc=musw,       \n",
        "            scale=sigmasw))\n",
        "    \n",
        "    log_likelihoodx = gmx.log_prob(tf.transpose(x))\n",
        "    log_likelihoody = gmy.log_prob(tf.transpose(y))\n",
        "    log_likelihoodh = gmh.log_prob(tf.transpose(h))\n",
        "    log_likelihoodw = gmw.log_prob(tf.transpose(w))\n",
        "\n",
        "    return -tf.reduce_mean(log_likelihoodx + log_likelihoody + log_likelihoodh + log_likelihoodw , axis=-1)"
      ],
      "execution_count": 0,
      "outputs": []
    },
    {
      "cell_type": "code",
      "metadata": {
        "id": "n9M3_S7flywa",
        "colab_type": "code",
        "outputId": "f449e246-cab9-408b-a784-6efbd1111af6",
        "colab": {
          "base_uri": "https://localhost:8080/",
          "height": 6834
        }
      },
      "source": [
        "optimizer = Adam(lr = 0.0001)\n",
        "model.compile(loss=gnll_loss, optimizer=optimizer)\n",
        "d_loss = model.fit([p_bbx, p_label, label], bbx1, epochs=200, batch_size=32,shuffle=False)\n",
        "print(d_loss)"
      ],
      "execution_count": 88,
      "outputs": [
        {
          "output_type": "stream",
          "text": [
            "Epoch 1/200\n",
            "1356/1356 [==============================] - 4s 3ms/step - loss: 0.5324\n",
            "Epoch 2/200\n",
            "1356/1356 [==============================] - 1s 462us/step - loss: 0.5317\n",
            "Epoch 3/200\n",
            "1356/1356 [==============================] - 1s 469us/step - loss: 0.5317\n",
            "Epoch 4/200\n",
            "1356/1356 [==============================] - 1s 463us/step - loss: 0.5317\n",
            "Epoch 5/200\n",
            "1356/1356 [==============================] - 1s 457us/step - loss: 0.5317\n",
            "Epoch 6/200\n",
            "1356/1356 [==============================] - 1s 461us/step - loss: 0.5317\n",
            "Epoch 7/200\n",
            "1356/1356 [==============================] - 1s 461us/step - loss: 0.5317\n",
            "Epoch 8/200\n",
            "1356/1356 [==============================] - 1s 456us/step - loss: 0.5317\n",
            "Epoch 9/200\n",
            "1356/1356 [==============================] - 1s 461us/step - loss: 0.5317\n",
            "Epoch 10/200\n",
            "1356/1356 [==============================] - 1s 461us/step - loss: 0.5317\n",
            "Epoch 11/200\n",
            "1356/1356 [==============================] - 1s 456us/step - loss: 0.5317\n",
            "Epoch 12/200\n",
            "1356/1356 [==============================] - 1s 461us/step - loss: 0.5317\n",
            "Epoch 13/200\n",
            "1356/1356 [==============================] - 1s 452us/step - loss: 0.5317\n",
            "Epoch 14/200\n",
            "1356/1356 [==============================] - 1s 461us/step - loss: 0.5317\n",
            "Epoch 15/200\n",
            "1356/1356 [==============================] - 1s 466us/step - loss: 0.5317\n",
            "Epoch 16/200\n",
            "1356/1356 [==============================] - 1s 453us/step - loss: 0.5317\n",
            "Epoch 17/200\n",
            "1356/1356 [==============================] - 1s 459us/step - loss: 0.5317\n",
            "Epoch 18/200\n",
            "1356/1356 [==============================] - 1s 456us/step - loss: 0.5317\n",
            "Epoch 19/200\n",
            "1356/1356 [==============================] - 1s 459us/step - loss: 0.5317\n",
            "Epoch 20/200\n",
            "1356/1356 [==============================] - 1s 491us/step - loss: 0.5317\n",
            "Epoch 21/200\n",
            "1356/1356 [==============================] - 1s 458us/step - loss: 0.5317\n",
            "Epoch 22/200\n",
            "1356/1356 [==============================] - 1s 473us/step - loss: 0.5317\n",
            "Epoch 23/200\n",
            "1356/1356 [==============================] - 1s 457us/step - loss: 0.5316\n",
            "Epoch 24/200\n",
            "1356/1356 [==============================] - 1s 458us/step - loss: 0.5316\n",
            "Epoch 25/200\n",
            "1356/1356 [==============================] - 1s 457us/step - loss: 0.5316\n",
            "Epoch 26/200\n",
            "1356/1356 [==============================] - 1s 453us/step - loss: 0.5316\n",
            "Epoch 27/200\n",
            "1356/1356 [==============================] - 1s 461us/step - loss: 0.5316\n",
            "Epoch 28/200\n",
            "1356/1356 [==============================] - 1s 463us/step - loss: 0.5316\n",
            "Epoch 29/200\n",
            "1356/1356 [==============================] - 1s 460us/step - loss: 0.5316\n",
            "Epoch 30/200\n",
            "1356/1356 [==============================] - 1s 470us/step - loss: 0.5316\n",
            "Epoch 31/200\n",
            "1356/1356 [==============================] - 1s 459us/step - loss: 0.5316\n",
            "Epoch 32/200\n",
            "1356/1356 [==============================] - 1s 460us/step - loss: 0.5316\n",
            "Epoch 33/200\n",
            "1356/1356 [==============================] - 1s 455us/step - loss: 0.5316\n",
            "Epoch 34/200\n",
            "1356/1356 [==============================] - 1s 457us/step - loss: 0.5316\n",
            "Epoch 35/200\n",
            "1356/1356 [==============================] - 1s 465us/step - loss: 0.5316\n",
            "Epoch 36/200\n",
            "1356/1356 [==============================] - 1s 457us/step - loss: 0.5316\n",
            "Epoch 37/200\n",
            "1356/1356 [==============================] - 1s 471us/step - loss: 0.5316\n",
            "Epoch 38/200\n",
            "1356/1356 [==============================] - 1s 461us/step - loss: 0.5316\n",
            "Epoch 39/200\n",
            "1356/1356 [==============================] - 1s 451us/step - loss: 0.5316\n",
            "Epoch 40/200\n",
            "1356/1356 [==============================] - 1s 462us/step - loss: 0.5316\n",
            "Epoch 41/200\n",
            "1356/1356 [==============================] - 1s 450us/step - loss: 0.5316\n",
            "Epoch 42/200\n",
            "1356/1356 [==============================] - 1s 459us/step - loss: 0.5316\n",
            "Epoch 43/200\n",
            "1356/1356 [==============================] - 1s 456us/step - loss: 0.5316\n",
            "Epoch 44/200\n",
            "1356/1356 [==============================] - 1s 446us/step - loss: 0.5316\n",
            "Epoch 45/200\n",
            "1356/1356 [==============================] - 1s 470us/step - loss: 0.5316\n",
            "Epoch 46/200\n",
            "1356/1356 [==============================] - 1s 456us/step - loss: 0.5316\n",
            "Epoch 47/200\n",
            "1356/1356 [==============================] - 1s 457us/step - loss: 0.5316\n",
            "Epoch 48/200\n",
            "1356/1356 [==============================] - 1s 459us/step - loss: 0.5316\n",
            "Epoch 49/200\n",
            "1356/1356 [==============================] - 1s 457us/step - loss: 0.5315\n",
            "Epoch 50/200\n",
            "1356/1356 [==============================] - 1s 474us/step - loss: 0.5315\n",
            "Epoch 51/200\n",
            "1356/1356 [==============================] - 1s 461us/step - loss: 0.5315\n",
            "Epoch 52/200\n",
            "1356/1356 [==============================] - 1s 454us/step - loss: 0.5315\n",
            "Epoch 53/200\n",
            "1356/1356 [==============================] - 1s 468us/step - loss: 0.5315\n",
            "Epoch 54/200\n",
            "1356/1356 [==============================] - 1s 457us/step - loss: 0.5315\n",
            "Epoch 55/200\n",
            "1356/1356 [==============================] - 1s 468us/step - loss: 0.5315\n",
            "Epoch 56/200\n",
            "1356/1356 [==============================] - 1s 451us/step - loss: 0.5315\n",
            "Epoch 57/200\n",
            "1356/1356 [==============================] - 1s 458us/step - loss: 0.5315\n",
            "Epoch 58/200\n",
            "1356/1356 [==============================] - 1s 459us/step - loss: 0.5315\n",
            "Epoch 59/200\n",
            "1356/1356 [==============================] - 1s 453us/step - loss: 0.5315\n",
            "Epoch 60/200\n",
            "1356/1356 [==============================] - 1s 460us/step - loss: 0.5315\n",
            "Epoch 61/200\n",
            "1356/1356 [==============================] - 1s 462us/step - loss: 0.5315\n",
            "Epoch 62/200\n",
            "1356/1356 [==============================] - 1s 462us/step - loss: 0.5315\n",
            "Epoch 63/200\n",
            "1356/1356 [==============================] - 1s 468us/step - loss: 0.5315\n",
            "Epoch 64/200\n",
            "1356/1356 [==============================] - 1s 449us/step - loss: 0.5315\n",
            "Epoch 65/200\n",
            "1356/1356 [==============================] - 1s 454us/step - loss: 0.5315\n",
            "Epoch 66/200\n",
            "1356/1356 [==============================] - 1s 451us/step - loss: 0.5315\n",
            "Epoch 67/200\n",
            "1356/1356 [==============================] - 1s 458us/step - loss: 0.5315\n",
            "Epoch 68/200\n",
            "1356/1356 [==============================] - 1s 456us/step - loss: 0.5315\n",
            "Epoch 69/200\n",
            "1356/1356 [==============================] - 1s 457us/step - loss: 0.5315\n",
            "Epoch 70/200\n",
            "1356/1356 [==============================] - 1s 467us/step - loss: 0.5315\n",
            "Epoch 71/200\n",
            "1356/1356 [==============================] - 1s 465us/step - loss: 0.5315\n",
            "Epoch 72/200\n",
            "1356/1356 [==============================] - 1s 450us/step - loss: 0.5315\n",
            "Epoch 73/200\n",
            "1356/1356 [==============================] - 1s 471us/step - loss: 0.5315\n",
            "Epoch 74/200\n",
            "1356/1356 [==============================] - 1s 451us/step - loss: 0.5314\n",
            "Epoch 75/200\n",
            "1356/1356 [==============================] - 1s 461us/step - loss: 0.5314\n",
            "Epoch 76/200\n",
            "1356/1356 [==============================] - 1s 457us/step - loss: 0.5314\n",
            "Epoch 77/200\n",
            "1356/1356 [==============================] - 1s 454us/step - loss: 0.5314\n",
            "Epoch 78/200\n",
            "1356/1356 [==============================] - 1s 456us/step - loss: 0.5314\n",
            "Epoch 79/200\n",
            "1356/1356 [==============================] - 1s 457us/step - loss: 0.5314\n",
            "Epoch 80/200\n",
            "1356/1356 [==============================] - 1s 458us/step - loss: 0.5314\n",
            "Epoch 81/200\n",
            "1356/1356 [==============================] - 1s 466us/step - loss: 0.5314\n",
            "Epoch 82/200\n",
            "1356/1356 [==============================] - 1s 457us/step - loss: 0.5314\n",
            "Epoch 83/200\n",
            "1356/1356 [==============================] - 1s 473us/step - loss: 0.5314\n",
            "Epoch 84/200\n",
            "1356/1356 [==============================] - 1s 454us/step - loss: 0.5314\n",
            "Epoch 85/200\n",
            "1356/1356 [==============================] - 1s 467us/step - loss: 0.5314\n",
            "Epoch 86/200\n",
            "1356/1356 [==============================] - 1s 462us/step - loss: 0.5314\n",
            "Epoch 87/200\n",
            "1356/1356 [==============================] - 1s 449us/step - loss: 0.5314\n",
            "Epoch 88/200\n",
            "1356/1356 [==============================] - 1s 470us/step - loss: 0.5314\n",
            "Epoch 89/200\n",
            "1356/1356 [==============================] - 1s 455us/step - loss: 0.5314\n",
            "Epoch 90/200\n",
            "1356/1356 [==============================] - 1s 459us/step - loss: 0.5314\n",
            "Epoch 91/200\n",
            "1356/1356 [==============================] - 1s 453us/step - loss: 0.5314\n",
            "Epoch 92/200\n",
            "1356/1356 [==============================] - 1s 455us/step - loss: 0.5314\n",
            "Epoch 93/200\n",
            "1356/1356 [==============================] - 1s 467us/step - loss: 0.5314\n",
            "Epoch 94/200\n",
            "1356/1356 [==============================] - 1s 449us/step - loss: 0.5314\n",
            "Epoch 95/200\n",
            "1356/1356 [==============================] - 1s 461us/step - loss: 0.5314\n",
            "Epoch 96/200\n",
            "1356/1356 [==============================] - 1s 460us/step - loss: 0.5314\n",
            "Epoch 97/200\n",
            "1356/1356 [==============================] - 1s 453us/step - loss: 0.5314\n",
            "Epoch 98/200\n",
            "1356/1356 [==============================] - 1s 460us/step - loss: 0.5314\n",
            "Epoch 99/200\n",
            "1356/1356 [==============================] - 1s 452us/step - loss: 0.5313\n",
            "Epoch 100/200\n",
            "1356/1356 [==============================] - 1s 462us/step - loss: 0.5313\n",
            "Epoch 101/200\n",
            "1356/1356 [==============================] - 1s 464us/step - loss: 0.5313\n",
            "Epoch 102/200\n",
            "1356/1356 [==============================] - 1s 458us/step - loss: 0.5313\n",
            "Epoch 103/200\n",
            "1356/1356 [==============================] - 1s 461us/step - loss: 0.5313\n",
            "Epoch 104/200\n",
            "1356/1356 [==============================] - 1s 453us/step - loss: 0.5313\n",
            "Epoch 105/200\n",
            "1356/1356 [==============================] - 1s 468us/step - loss: 0.5313\n",
            "Epoch 106/200\n",
            "1356/1356 [==============================] - 1s 461us/step - loss: 0.5313\n",
            "Epoch 107/200\n",
            "1356/1356 [==============================] - 1s 453us/step - loss: 0.5313\n",
            "Epoch 108/200\n",
            "1356/1356 [==============================] - 1s 456us/step - loss: 0.5313\n",
            "Epoch 109/200\n",
            "1356/1356 [==============================] - 1s 461us/step - loss: 0.5313\n",
            "Epoch 110/200\n",
            "1356/1356 [==============================] - 1s 464us/step - loss: 0.5313\n",
            "Epoch 111/200\n",
            "1356/1356 [==============================] - 1s 480us/step - loss: 0.5313\n",
            "Epoch 112/200\n",
            "1356/1356 [==============================] - 1s 481us/step - loss: 0.5313\n",
            "Epoch 113/200\n",
            "1356/1356 [==============================] - 1s 481us/step - loss: 0.5313\n",
            "Epoch 114/200\n",
            "1356/1356 [==============================] - 1s 484us/step - loss: 0.5313\n",
            "Epoch 115/200\n",
            "1356/1356 [==============================] - 1s 473us/step - loss: 0.5313\n",
            "Epoch 116/200\n",
            "1356/1356 [==============================] - 1s 471us/step - loss: 0.5313\n",
            "Epoch 117/200\n",
            "1356/1356 [==============================] - 1s 484us/step - loss: 0.5313\n",
            "Epoch 118/200\n",
            "1356/1356 [==============================] - 1s 474us/step - loss: 0.5313\n",
            "Epoch 119/200\n",
            "1356/1356 [==============================] - 1s 459us/step - loss: 0.5313\n",
            "Epoch 120/200\n",
            "1356/1356 [==============================] - 1s 457us/step - loss: 0.5313\n",
            "Epoch 121/200\n",
            "1356/1356 [==============================] - 1s 465us/step - loss: 0.5313\n",
            "Epoch 122/200\n",
            "1356/1356 [==============================] - 1s 469us/step - loss: 0.5313\n",
            "Epoch 123/200\n",
            "1356/1356 [==============================] - 1s 452us/step - loss: 0.5313\n",
            "Epoch 124/200\n",
            "1356/1356 [==============================] - 1s 456us/step - loss: 0.5312\n",
            "Epoch 125/200\n",
            "1356/1356 [==============================] - 1s 450us/step - loss: 0.5312\n",
            "Epoch 126/200\n",
            "1356/1356 [==============================] - 1s 465us/step - loss: 0.5312\n",
            "Epoch 127/200\n",
            "1356/1356 [==============================] - 1s 459us/step - loss: 0.5312\n",
            "Epoch 128/200\n",
            "1356/1356 [==============================] - 1s 453us/step - loss: 0.5312\n",
            "Epoch 129/200\n",
            "1356/1356 [==============================] - 1s 455us/step - loss: 0.5312\n",
            "Epoch 130/200\n",
            "1356/1356 [==============================] - 1s 448us/step - loss: 0.5312\n",
            "Epoch 131/200\n",
            "1356/1356 [==============================] - 1s 462us/step - loss: 0.5312\n",
            "Epoch 132/200\n",
            "1356/1356 [==============================] - 1s 454us/step - loss: 0.5312\n",
            "Epoch 133/200\n",
            "1356/1356 [==============================] - 1s 448us/step - loss: 0.5312\n",
            "Epoch 134/200\n",
            "1356/1356 [==============================] - 1s 455us/step - loss: 0.5312\n",
            "Epoch 135/200\n",
            "1356/1356 [==============================] - 1s 448us/step - loss: 0.5312\n",
            "Epoch 136/200\n",
            "1356/1356 [==============================] - 1s 458us/step - loss: 0.5312\n",
            "Epoch 137/200\n",
            "1356/1356 [==============================] - 1s 462us/step - loss: 0.5312\n",
            "Epoch 138/200\n",
            "1356/1356 [==============================] - 1s 440us/step - loss: 0.5312\n",
            "Epoch 139/200\n",
            "1356/1356 [==============================] - 1s 463us/step - loss: 0.5312\n",
            "Epoch 140/200\n",
            "1356/1356 [==============================] - 1s 454us/step - loss: 0.5312\n",
            "Epoch 141/200\n",
            "1356/1356 [==============================] - 1s 471us/step - loss: 0.5312\n",
            "Epoch 142/200\n",
            "1356/1356 [==============================] - 1s 465us/step - loss: 0.5312\n",
            "Epoch 143/200\n",
            "1356/1356 [==============================] - 1s 452us/step - loss: 0.5312\n",
            "Epoch 144/200\n",
            "1356/1356 [==============================] - 1s 453us/step - loss: 0.5312\n",
            "Epoch 145/200\n",
            "1356/1356 [==============================] - 1s 450us/step - loss: 0.5312\n",
            "Epoch 146/200\n",
            "1356/1356 [==============================] - 1s 461us/step - loss: 0.5312\n",
            "Epoch 147/200\n",
            "1356/1356 [==============================] - 1s 461us/step - loss: 0.5312\n",
            "Epoch 148/200\n",
            "1356/1356 [==============================] - 1s 456us/step - loss: 0.5312\n",
            "Epoch 149/200\n",
            "1356/1356 [==============================] - 1s 456us/step - loss: 0.5312\n",
            "Epoch 150/200\n",
            "1356/1356 [==============================] - 1s 452us/step - loss: 0.5311\n",
            "Epoch 151/200\n",
            "1356/1356 [==============================] - 1s 472us/step - loss: 0.5311\n",
            "Epoch 152/200\n",
            "1356/1356 [==============================] - 1s 463us/step - loss: 0.5311\n",
            "Epoch 153/200\n",
            "1356/1356 [==============================] - 1s 457us/step - loss: 0.5311\n",
            "Epoch 154/200\n",
            "1356/1356 [==============================] - 1s 461us/step - loss: 0.5311\n",
            "Epoch 155/200\n",
            "1356/1356 [==============================] - 1s 458us/step - loss: 0.5311\n",
            "Epoch 156/200\n",
            "1356/1356 [==============================] - 1s 457us/step - loss: 0.5311\n",
            "Epoch 157/200\n",
            "1356/1356 [==============================] - 1s 464us/step - loss: 0.5311\n",
            "Epoch 158/200\n",
            "1356/1356 [==============================] - 1s 461us/step - loss: 0.5311\n",
            "Epoch 159/200\n",
            "1356/1356 [==============================] - 1s 482us/step - loss: 0.5311\n",
            "Epoch 160/200\n",
            "1356/1356 [==============================] - 1s 459us/step - loss: 0.5311\n",
            "Epoch 161/200\n",
            "1356/1356 [==============================] - 1s 448us/step - loss: 0.5311\n",
            "Epoch 162/200\n",
            "1356/1356 [==============================] - 1s 455us/step - loss: 0.5311\n",
            "Epoch 163/200\n",
            "1356/1356 [==============================] - 1s 448us/step - loss: 0.5311\n",
            "Epoch 164/200\n",
            "1356/1356 [==============================] - 1s 464us/step - loss: 0.5311\n",
            "Epoch 165/200\n",
            "1356/1356 [==============================] - 1s 461us/step - loss: 0.5311\n",
            "Epoch 166/200\n",
            "1356/1356 [==============================] - 1s 455us/step - loss: 0.5311\n",
            "Epoch 167/200\n",
            "1356/1356 [==============================] - 1s 463us/step - loss: 0.5311\n",
            "Epoch 168/200\n",
            "1356/1356 [==============================] - 1s 447us/step - loss: 0.5311\n",
            "Epoch 169/200\n",
            "1356/1356 [==============================] - 1s 455us/step - loss: 0.5311\n",
            "Epoch 170/200\n",
            "1356/1356 [==============================] - 1s 462us/step - loss: 0.5311\n",
            "Epoch 171/200\n",
            "1356/1356 [==============================] - 1s 442us/step - loss: 0.5311\n",
            "Epoch 172/200\n",
            "1356/1356 [==============================] - 1s 459us/step - loss: 0.5311\n",
            "Epoch 173/200\n",
            "1356/1356 [==============================] - 1s 452us/step - loss: 0.5311\n",
            "Epoch 174/200\n",
            "1356/1356 [==============================] - 1s 453us/step - loss: 0.5311\n",
            "Epoch 175/200\n",
            "1356/1356 [==============================] - 1s 453us/step - loss: 0.5311\n",
            "Epoch 176/200\n",
            "1356/1356 [==============================] - 1s 467us/step - loss: 0.5310\n",
            "Epoch 177/200\n",
            "1356/1356 [==============================] - 1s 456us/step - loss: 0.5310\n",
            "Epoch 178/200\n",
            "1356/1356 [==============================] - 1s 449us/step - loss: 0.5310\n",
            "Epoch 179/200\n",
            "1356/1356 [==============================] - 1s 467us/step - loss: 0.5310\n",
            "Epoch 180/200\n",
            "1356/1356 [==============================] - 1s 447us/step - loss: 0.5310\n",
            "Epoch 181/200\n",
            "1356/1356 [==============================] - 1s 450us/step - loss: 0.5310\n",
            "Epoch 182/200\n",
            "1356/1356 [==============================] - 1s 455us/step - loss: 0.5310\n",
            "Epoch 183/200\n",
            "1356/1356 [==============================] - 1s 449us/step - loss: 0.5310\n",
            "Epoch 184/200\n",
            "1356/1356 [==============================] - 1s 470us/step - loss: 0.5310\n",
            "Epoch 185/200\n",
            "1356/1356 [==============================] - 1s 452us/step - loss: 0.5310\n",
            "Epoch 186/200\n",
            "1356/1356 [==============================] - 1s 450us/step - loss: 0.5310\n",
            "Epoch 187/200\n",
            "1356/1356 [==============================] - 1s 454us/step - loss: 0.5310\n",
            "Epoch 188/200\n",
            "1356/1356 [==============================] - 1s 449us/step - loss: 0.5310\n",
            "Epoch 189/200\n",
            "1356/1356 [==============================] - 1s 457us/step - loss: 0.5310\n",
            "Epoch 190/200\n",
            "1356/1356 [==============================] - 1s 457us/step - loss: 0.5310\n",
            "Epoch 191/200\n",
            "1356/1356 [==============================] - 1s 446us/step - loss: 0.5310\n",
            "Epoch 192/200\n",
            "1356/1356 [==============================] - 1s 456us/step - loss: 0.5310\n",
            "Epoch 193/200\n",
            "1356/1356 [==============================] - 1s 460us/step - loss: 0.5310\n",
            "Epoch 194/200\n",
            "1356/1356 [==============================] - 1s 463us/step - loss: 0.5310\n",
            "Epoch 195/200\n",
            "1356/1356 [==============================] - 1s 455us/step - loss: 0.5310\n",
            "Epoch 196/200\n",
            "1356/1356 [==============================] - 1s 458us/step - loss: 0.5310\n",
            "Epoch 197/200\n",
            "1356/1356 [==============================] - 1s 455us/step - loss: 0.5310\n",
            "Epoch 198/200\n",
            "1356/1356 [==============================] - 1s 454us/step - loss: 0.5310\n",
            "Epoch 199/200\n",
            "1356/1356 [==============================] - 1s 462us/step - loss: 0.5310\n",
            "Epoch 200/200\n",
            "1356/1356 [==============================] - 1s 469us/step - loss: 0.5310\n",
            "<keras.callbacks.History object at 0x7f74ec997f28>\n"
          ],
          "name": "stdout"
        }
      ]
    },
    {
      "cell_type": "code",
      "metadata": {
        "id": "0LBdmIONsjFq",
        "colab_type": "code",
        "outputId": "deed9e0e-aea4-4dc2-909b-11f73b9292a6",
        "colab": {
          "base_uri": "https://localhost:8080/",
          "height": 295
        }
      },
      "source": [
        "plt.plot(d_loss.history['loss'])\n",
        "plt.title('model loss')\n",
        "plt.ylabel('mean_squared_error')\n",
        "plt.xlabel('instance')\n",
        "plt.legend(['train'], loc='upper left')\n",
        "plt.show()"
      ],
      "execution_count": 87,
      "outputs": [
        {
          "output_type": "display_data",
          "data": {
            "image/png": "[encoded data removed]",
            "text/plain": [
              "<Figure size 432x288 with 1 Axes>"
            ]
          },
          "metadata": {
            "tags": []
          }
        }
      ]
    },
    {
      "cell_type": "code",
      "metadata": {
        "colab_type": "code",
        "id": "Q0LmtQmYblNJ",
        "colab": {}
      },
      "source": [
        "def sampler(parameter_vector):\n",
        "\n",
        "    x_vector, y_vector, h_vector, w_vector = [parameter_vector[:,i*21:(i+1)*21] for i in range(4)]\n",
        "    \n",
        "    alphasx, musx, sigmasx = slice_parameter_vectors(x_vector)    \n",
        "    alphasy, musy, sigmasy = slice_parameter_vectors(y_vector)\n",
        "    alphash, mush, sigmash = slice_parameter_vectors(h_vector)\n",
        "    alphasw, musw, sigmasw = slice_parameter_vectors(w_vector)\n",
        "    \n",
        "    gmx = tfd.MixtureSameFamily(\n",
        "        mixture_distribution=tfd.Categorical(probs=alphasx),\n",
        "        components_distribution=tfd.Normal(\n",
        "            loc=musx,       \n",
        "            scale=sigmasx))\n",
        "    \n",
        "    gmy = tfd.MixtureSameFamily(\n",
        "        mixture_distribution=tfd.Categorical(probs=alphasy),\n",
        "        components_distribution=tfd.Normal(\n",
        "            loc=musy,       \n",
        "            scale=sigmasy))\n",
        "    \n",
        "    gmh = tfd.MixtureSameFamily(\n",
        "        mixture_distribution=tfd.Categorical(probs=alphash),\n",
        "        components_distribution=tfd.Normal(\n",
        "            loc=mush,       \n",
        "            scale=sigmash))\n",
        "    \n",
        "    gmw = tfd.MixtureSameFamily(\n",
        "        mixture_distribution=tfd.Categorical(probs=alphasw),\n",
        "        components_distribution=tfd.Normal(\n",
        "            loc=musw,       \n",
        "            scale=sigmasw))\n",
        "    \n",
        "    x = gmx.sample(1000)\n",
        "    y = gmy.sample(1000)\n",
        "    h = gmh.sample(1000)\n",
        "    w = gmw.sample(1000)\n",
        "\n",
        "    return x,y,h+y,w+x"
      ],
      "execution_count": 0,
      "outputs": []
    },
    {
      "cell_type": "code",
      "metadata": {
        "id": "UNTRoeE3w-Gw",
        "colab_type": "code",
        "colab": {}
      },
      "source": [
        "pb = np.expand_dims(p_bbx[0], axis =0)\n",
        "pl = np.expand_dims(p_label[0], axis =0)\n",
        "cl = np.expand_dims(label[0], axis =0)\n",
        "\n",
        "pred = model.predict([pb, pl, cl])"
      ],
      "execution_count": 0,
      "outputs": []
    },
    {
      "cell_type": "code",
      "metadata": {
        "id": "8yLGX4NgGLMj",
        "colab_type": "code",
        "colab": {}
      },
      "source": [
        "p1 = np.asarray([sampler(pred)])"
      ],
      "execution_count": 0,
      "outputs": []
    },
    {
      "cell_type": "code",
      "metadata": {
        "id": "oL352tA85sE5",
        "colab_type": "code",
        "colab": {}
      },
      "source": [
        "pxn = tf.Session().run(p1[0][0])\n",
        "pyn = tf.Session().run(p1[0][1])\n",
        "pxm = tf.Session().run(p1[0][2])\n",
        "pym = tf.Session().run(p1[0][3])"
      ],
      "execution_count": 0,
      "outputs": []
    },
    {
      "cell_type": "code",
      "metadata": {
        "id": "qJBCy1S-wwAD",
        "colab_type": "code",
        "colab": {
          "base_uri": "https://localhost:8080/",
          "height": 10580
        },
        "outputId": "2b6a61a1-a76f-4d0b-9cfb-9fd6c58b8ec7"
      },
      "source": [
        "for xn,yn,xm,ym in zip(pxn, pyn , pxm, pym):\n",
        "  p1 = np.array([xn, yn , xm, ym])\n",
        "  p1 = np.reshape(p1, (1,4))\n",
        "  p1 = p1 + 1\n",
        "  p1 = p1*300\n",
        "  canvas = np.ones((500,500,3), np.uint8) * 255\n",
        "  x_minp, y_minp,x_maxp , y_maxp = p1[0]\n",
        "  hh = y_maxp - y_minp\n",
        "  ww = x_maxp - x_minp\n",
        "  if hh >=ww-10 and hh <=ww + 10 and x_minp < 500 and y_minp < 500 and x_maxp < 500 and y_maxp < 500:\n",
        "    canvas = np.ones((500,500,3), np.uint8) * 255\n",
        "    cv2.rectangle(canvas, ((x_minp), (y_minp)), ((x_maxp) , (y_maxp) ), (0, 0, 255), 2)\n",
        "    figure(num=None, figsize=(5, 5), dpi=80, facecolor='w', edgecolor='k')\n",
        "    plt.imshow(canvas)"
      ],
      "execution_count": 153,
      "outputs": [
        {
          "output_type": "stream",
          "text": [
            "/usr/local/lib/python3.6/dist-packages/matplotlib/pyplot.py:514: RuntimeWarning: More than 20 figures have been opened. Figures created through the pyplot interface (`matplotlib.pyplot.figure`) are retained until explicitly closed and may consume too much memory. (To control this warning, see the rcParam `figure.max_open_warning`).\n",
            "  max_open_warning, RuntimeWarning)\n"
          ],
          "name": "stderr"
        },
        {
          "output_type": "display_data",
          "data": {
            "image/png": "[encoded data removed]",
            "text/plain": [
              "<Figure size 400x400 with 1 Axes>"
            ]
          },
          "metadata": {
            "tags": []
          }
        },
        {
          "output_type": "display_data",
          "data": {
            "image/png": "[encoded data removed]",
            "text/plain": [
              "<Figure size 400x400 with 1 Axes>"
            ]
          },
          "metadata": {
            "tags": []
          }
        },
        {
          "output_type": "display_data",
          "data": {
            "image/png": "[encoded data removed]",
            "text/plain": [
              "<Figure size 400x400 with 1 Axes>"
            ]
          },
          "metadata": {
            "tags": []
          }
        },
        {
          "output_type": "display_data",
          "data": {
            "image/png": "[encoded data removed]",
            "text/plain": [
              "<Figure size 400x400 with 1 Axes>"
            ]
          },
          "metadata": {
            "tags": []
          }
        },
        {
          "output_type": "display_data",
          "data": {
            "image/png": "[encoded data removed]",
            "text/plain": [
              "<Figure size 400x400 with 1 Axes>"
            ]
          },
          "metadata": {
            "tags": []
          }
        },
        {
          "output_type": "display_data",
          "data": {
            "image/png": "[encoded data removed]",
            "text/plain": [
              "<Figure size 400x400 with 1 Axes>"
            ]
          },
          "metadata": {
            "tags": []
          }
        },
        {
          "output_type": "display_data",
          "data": {
            "image/png": "[encoded data removed]",
            "text/plain": [
              "<Figure size 400x400 with 1 Axes>"
            ]
          },
          "metadata": {
            "tags": []
          }
        },
        {
          "output_type": "display_data",
          "data": {
            "image/png": "[encoded data removed]",
            "text/plain": [
              "<Figure size 400x400 with 1 Axes>"
            ]
          },
          "metadata": {
            "tags": []
          }
        },
        {
          "output_type": "display_data",
          "data": {
            "image/png": "[encoded data removed]",
            "text/plain": [
              "<Figure size 400x400 with 1 Axes>"
            ]
          },
          "metadata": {
            "tags": []
          }
        },
        {
          "output_type": "display_data",
          "data": {
            "image/png": "[encoded data removed]",
            "text/plain": [
              "<Figure size 400x400 with 1 Axes>"
            ]
          },
          "metadata": {
            "tags": []
          }
        },
        {
          "output_type": "display_data",
          "data": {
            "image/png": "[encoded data removed]",
            "text/plain": [
              "<Figure size 400x400 with 1 Axes>"
            ]
          },
          "metadata": {
            "tags": []
          }
        },
        {
          "output_type": "display_data",
          "data": {
            "image/png": "[encoded data removed]",
            "text/plain": [
              "<Figure size 400x400 with 1 Axes>"
            ]
          },
          "metadata": {
            "tags": []
          }
        },
        {
          "output_type": "display_data",
          "data": {
            "image/png": "[encoded data removed]",
            "text/plain": [
              "<Figure size 400x400 with 1 Axes>"
            ]
          },
          "metadata": {
            "tags": []
          }
        },
        {
          "output_type": "display_data",
          "data": {
            "image/png": "[encoded data removed]",
            "text/plain": [
              "<Figure size 400x400 with 1 Axes>"
            ]
          },
          "metadata": {
            "tags": []
          }
        },
        {
          "output_type": "display_data",
          "data": {
            "image/png": "[encoded data removed]",
            "text/plain": [
              "<Figure size 400x400 with 1 Axes>"
            ]
          },
          "metadata": {
            "tags": []
          }
        },
        {
          "output_type": "display_data",
          "data": {
            "image/png": "[encoded data removed]",
            "text/plain": [
              "<Figure size 400x400 with 1 Axes>"
            ]
          },
          "metadata": {
            "tags": []
          }
        },
        {
          "output_type": "display_data",
          "data": {
            "image/png": "[encoded data removed]",
            "text/plain": [
              "<Figure size 400x400 with 1 Axes>"
            ]
          },
          "metadata": {
            "tags": []
          }
        },
        {
          "output_type": "display_data",
          "data": {
            "image/png": "[encoded data removed]",
            "text/plain": [
              "<Figure size 400x400 with 1 Axes>"
            ]
          },
          "metadata": {
            "tags": []
          }
        },
        {
          "output_type": "display_data",
          "data": {
            "image/png": "[encoded data removed]",
            "text/plain": [
              "<Figure size 400x400 with 1 Axes>"
            ]
          },
          "metadata": {
            "tags": []
          }
        },
        {
          "output_type": "display_data",
          "data": {
            "image/png": "[encoded data removed]",
            "text/plain": [
              "<Figure size 400x400 with 1 Axes>"
            ]
          },
          "metadata": {
            "tags": []
          }
        },
        {
          "output_type": "display_data",
          "data": {
            "image/png": "[encoded data removed]",
            "text/plain": [
              "<Figure size 400x400 with 1 Axes>"
            ]
          },
          "metadata": {
            "tags": []
          }
        },
        {
          "output_type": "display_data",
          "data": {
            "image/png": "[encoded data removed]",
            "text/plain": [
              "<Figure size 400x400 with 1 Axes>"
            ]
          },
          "metadata": {
            "tags": []
          }
        },
        {
          "output_type": "display_data",
          "data": {
            "image/png": "[encoded data removed]",
            "text/plain": [
              "<Figure size 400x400 with 1 Axes>"
            ]
          },
          "metadata": {
            "tags": []
          }
        },
        {
          "output_type": "display_data",
          "data": {
            "image/png": "[encoded data removed]",
            "text/plain": [
              "<Figure size 400x400 with 1 Axes>"
            ]
          },
          "metadata": {
            "tags": []
          }
        },
        {
          "output_type": "display_data",
          "data": {
            "image/png": "[encoded data removed]",
            "text/plain": [
              "<Figure size 400x400 with 1 Axes>"
            ]
          },
          "metadata": {
            "tags": []
          }
        },
        {
          "output_type": "display_data",
          "data": {
            "image/png": "[encoded data removed]",
            "text/plain": [
              "<Figure size 400x400 with 1 Axes>"
            ]
          },
          "metadata": {
            "tags": []
          }
        },
        {
          "output_type": "display_data",
          "data": {
            "image/png": "[encoded data removed]",
            "text/plain": [
              "<Figure size 400x400 with 1 Axes>"
            ]
          },
          "metadata": {
            "tags": []
          }
        },
        {
          "output_type": "display_data",
          "data": {
            "image/png": "[encoded data removed]",
            "text/plain": [
              "<Figure size 400x400 with 1 Axes>"
            ]
          },
          "metadata": {
            "tags": []
          }
        },
        {
          "output_type": "display_data",
          "data": {
            "image/png": "[encoded data removed]",
            "text/plain": [
              "<Figure size 400x400 with 1 Axes>"
            ]
          },
          "metadata": {
            "tags": []
          }
        },
        {
          "output_type": "display_data",
          "data": {
            "image/png": "[encoded data removed]",
            "text/plain": [
              "<Figure size 400x400 with 1 Axes>"
            ]
          },
          "metadata": {
            "tags": []
          }
        },
        {
          "output_type": "display_data",
          "data": {
            "image/png": "[encoded data removed]",
            "text/plain": [
              "<Figure size 400x400 with 1 Axes>"
            ]
          },
          "metadata": {
            "tags": []
          }
        }
      ]
    },
    {
      "cell_type": "code",
      "metadata": {
        "id": "o_VMU2JXmW3A",
        "colab_type": "code",
        "colab": {}
      },
      "source": [
        ""
      ],
      "execution_count": 0,
      "outputs": []
    }
  ]
}